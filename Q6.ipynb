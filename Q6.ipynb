{
 "cells": [
  {
   "cell_type": "code",
   "execution_count": 2,
   "metadata": {},
   "outputs": [
    {
     "name": "stdout",
     "output_type": "stream",
     "text": [
      "original list: [10, 22, 44, 23, 4]\n",
      "after cloning the orginal list: [10, 22, 44, 23, 4]\n"
     ]
    }
   ],
   "source": [
    "list1 = [10, 22, 44, 23, 4]\n",
    "list2 = list(list1)\n",
    "print(\"original list:\",list1)\n",
    "print(\"after cloning the orginal list:\",list2)\n"
   ]
  }
 ],
 "metadata": {
  "kernelspec": {
   "display_name": "Python 3",
   "language": "python",
   "name": "python3"
  },
  "language_info": {
   "codemirror_mode": {
    "name": "ipython",
    "version": 3
   },
   "file_extension": ".py",
   "mimetype": "text/x-python",
   "name": "python",
   "nbconvert_exporter": "python",
   "pygments_lexer": "ipython3",
   "version": "3.7.6"
  }
 },
 "nbformat": 4,
 "nbformat_minor": 4
}
