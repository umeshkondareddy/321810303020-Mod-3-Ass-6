{
 "cells": [
  {
   "cell_type": "code",
   "execution_count": 1,
   "metadata": {},
   "outputs": [
    {
     "name": "stdout",
     "output_type": "stream",
     "text": [
      "original list is: [1, 2, 3, 3, 3, 3, 4, 3, 5]\n",
      "list after removing the duplicate elements: [1, 2, 3, 4, 5]\n"
     ]
    }
   ],
   "source": [
    "k=[1,2,3,3,3,3,4,3,5]\n",
    "print(\"original list is:\",k)\n",
    "l = []\n",
    "for i in k:\n",
    "    if i not in l:\n",
    "        l.append(i)\n",
    "print(\"list after removing the duplicate elements:\",l) "
   ]
  }
 ],
 "metadata": {
  "kernelspec": {
   "display_name": "Python 3",
   "language": "python",
   "name": "python3"
  },
  "language_info": {
   "codemirror_mode": {
    "name": "ipython",
    "version": 3
   },
   "file_extension": ".py",
   "mimetype": "text/x-python",
   "name": "python",
   "nbconvert_exporter": "python",
   "pygments_lexer": "ipython3",
   "version": "3.7.6"
  }
 },
 "nbformat": 4,
 "nbformat_minor": 4
}
