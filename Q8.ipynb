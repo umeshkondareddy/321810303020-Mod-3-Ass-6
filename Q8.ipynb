{
 "cells": [
  {
   "cell_type": "code",
   "execution_count": 5,
   "metadata": {},
   "outputs": [
    {
     "name": "stdout",
     "output_type": "stream",
     "text": [
      "[10, 20, 30, 40, 50]\n",
      "enter the position to remove the element:4\n",
      "[10, 20, 30, 40]\n"
     ]
    }
   ],
   "source": [
    "l = [10, 20, 30, 40, 50] \n",
    "print(l)\n",
    "pos = int(input(\"enter the position to remove the element:\"))\n",
    "if(len(l)>pos):\n",
    "    del l[pos]  \n",
    "    print(l)\n",
    "else:\n",
    "    print(\"index out of range\")"
   ]
  }
 ],
 "metadata": {
  "kernelspec": {
   "display_name": "Python 3",
   "language": "python",
   "name": "python3"
  },
  "language_info": {
   "codemirror_mode": {
    "name": "ipython",
    "version": 3
   },
   "file_extension": ".py",
   "mimetype": "text/x-python",
   "name": "python",
   "nbconvert_exporter": "python",
   "pygments_lexer": "ipython3",
   "version": "3.7.6"
  }
 },
 "nbformat": 4,
 "nbformat_minor": 4
}
