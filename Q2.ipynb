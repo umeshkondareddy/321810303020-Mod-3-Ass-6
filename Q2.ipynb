{
 "cells": [
  {
   "cell_type": "code",
   "execution_count": 5,
   "metadata": {},
   "outputs": [
    {
     "name": "stdout",
     "output_type": "stream",
     "text": [
      "enter the no of elements:5\n",
      "1\n",
      "2\n",
      "3\n",
      "4\n",
      "5\n",
      "the mutiple of elements of list is: 120\n"
     ]
    }
   ],
   "source": [
    "n=int(input(\"enter the no of elements:\"))\n",
    "ls = []\n",
    "for i in range(n):\n",
    "    items=int(input())\n",
    "    ls.append(items)\n",
    "mul=1\n",
    "for j in ls:\n",
    "    mul*=j\n",
    "print(\"the mutiple of elements of list is:\",mul)"
   ]
  }
 ],
 "metadata": {
  "kernelspec": {
   "display_name": "Python 3",
   "language": "python",
   "name": "python3"
  },
  "language_info": {
   "codemirror_mode": {
    "name": "ipython",
    "version": 3
   },
   "file_extension": ".py",
   "mimetype": "text/x-python",
   "name": "python",
   "nbconvert_exporter": "python",
   "pygments_lexer": "ipython3",
   "version": "3.7.6"
  }
 },
 "nbformat": 4,
 "nbformat_minor": 4
}
